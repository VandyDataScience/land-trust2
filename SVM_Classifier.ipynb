{
 "cells": [
  {
   "cell_type": "code",
   "execution_count": 177,
   "id": "96edb3af",
   "metadata": {},
   "outputs": [],
   "source": [
    "import pandas as pd\n",
    "import numpy as np\n",
    "from sklearn import svm\n",
    "from sklearn.preprocessing import StandardScaler\n",
    "from sklearn.model_selection import train_test_split\n",
    "from sklearn.metrics import accuracy_score"
   ]
  },
  {
   "cell_type": "code",
   "execution_count": 172,
   "id": "a3ac628d",
   "metadata": {},
   "outputs": [],
   "source": [
    "data_2001 = pd.read_csv(\"./VDS_Sprint_3_Statistics_Alex/2001_Stats.csv\")\n",
    "data_2004 = pd.read_csv(\"./VDS_Sprint_3_Statistics_Alex/2004_Stats.csv\")\n",
    "data_2006 = pd.read_csv(\"./VDS_Sprint_3_Statistics_Alex/2006_Stats.csv\")\n",
    "data_2008 = pd.read_csv(\"./VDS_Sprint_3_Statistics_Alex/2008_Stats.csv\")\n",
    "data_2011 = pd.read_csv(\"./VDS_Sprint_3_Statistics_Alex/2011_Stats.csv\")\n",
    "data_2013 = pd.read_csv(\"./VDS_Sprint_3_Statistics_Alex/2013_Stats.csv\")\n",
    "data_2016 = pd.read_csv(\"./VDS_Sprint_3_Statistics_Alex/2016_Stats.csv\")\n",
    "data_2019 = pd.read_csv(\"./VDS_Sprint_3_Statistics_Alex/2019_Stats.csv\")"
   ]
  },
  {
   "cell_type": "code",
   "execution_count": 173,
   "id": "6af9f12b",
   "metadata": {},
   "outputs": [
    {
     "data": {
      "text/plain": [
       "40994"
      ]
     },
     "execution_count": 173,
     "metadata": {},
     "output_type": "execute_result"
    }
   ],
   "source": [
    "data_2001_nz_id = data_2001[data_2001['_majority'] != 0]['id'].to_numpy()\n",
    "data_2004_nz_id = data_2004[data_2004['_majority'] != 0]['id'].to_numpy()\n",
    "data_2006_nz_id = data_2006[data_2006['_majority'] != 0]['id'].to_numpy()\n",
    "data_2008_nz_id = data_2008[data_2008['_majority'] != 0]['id'].to_numpy()\n",
    "data_2011_nz_id = data_2011[data_2011['_majority'] != 0]['id'].to_numpy()\n",
    "data_2013_nz_id = data_2013[data_2013['_majority'] != 0]['id'].to_numpy()\n",
    "data_2016_nz_id = data_2016[data_2016['_majority'] != 0]['id'].to_numpy()\n",
    "data_2019_nz_id = data_2019[data_2019['_majority'] != 0]['id'].to_numpy()\n",
    "temp1 = np.intersect1d(data_2001_nz_id, data_2004_nz_id)\n",
    "temp2 = np.intersect1d(data_2006_nz_id, data_2008_nz_id)\n",
    "temp3 = np.intersect1d(data_2011_nz_id, data_2013_nz_id)\n",
    "temp4 = np.intersect1d(data_2016_nz_id, data_2019_nz_id)\n",
    "temp5 = np.intersect1d(temp1, temp2)\n",
    "temp6 = np.intersect1d(temp3, temp4)\n",
    "data_nz = np.intersect1d(temp5, temp6)\n",
    "data_nz.size"
   ]
  },
  {
   "cell_type": "code",
   "execution_count": 174,
   "id": "25eaa63b",
   "metadata": {},
   "outputs": [],
   "source": [
    "data_2001_nz = data_2001[['left', 'top', 'right', 'bottom', '_majority']].iloc[data_nz].to_numpy()\n",
    "data_2004_nz = data_2004[['left', 'top', 'right', 'bottom', '_majority']].iloc[data_nz].to_numpy()\n",
    "data_2006_nz = data_2006[['left', 'top', 'right', 'bottom', '_majority']].iloc[data_nz].to_numpy()\n",
    "data_2008_nz = data_2008[['left', 'top', 'right', 'bottom', '_majority']].iloc[data_nz].to_numpy()\n",
    "data_2011_nz = data_2011[['left', 'top', 'right', 'bottom', '_majority']].iloc[data_nz].to_numpy()\n",
    "data_2013_nz = data_2013[['left', 'top', 'right', 'bottom', '_majority']].iloc[data_nz].to_numpy()\n",
    "data_2016_nz = data_2016[['left', 'top', 'right', 'bottom', '_majority']].iloc[data_nz].to_numpy()\n",
    "data_2019_nz = data_2019[['left', 'top', 'right', 'bottom', '_majority']].iloc[data_nz].to_numpy()"
   ]
  },
  {
   "cell_type": "code",
   "execution_count": 175,
   "id": "0ef09b4b",
   "metadata": {},
   "outputs": [
    {
     "data": {
      "text/plain": [
       "SVC()"
      ]
     },
     "execution_count": 175,
     "metadata": {},
     "output_type": "execute_result"
    }
   ],
   "source": [
    "data_01_19 = data_2019_nz - data_2001_nz\n",
    "for point in data_01_19:\n",
    "    if point[-1] != 0:\n",
    "        point[-1] = 1\n",
    "        \n",
    "X = data_2001_nz[:, [0, 1, 2, 3]]\n",
    "y = data_01_19[:, -1]\n",
    "X_train, X_test, y_train, y_test = train_test_split(X, y, test_size=0.2, random_state=25)\n",
    "\n",
    "scalerX = StandardScaler()\n",
    "scalerX.fit(X_train)\n",
    "scalerX.transform(X_train)\n",
    "\n",
    "model = svm.SVC()\n",
    "model.fit(X_train, y_train)"
   ]
  },
  {
   "cell_type": "code",
   "execution_count": 176,
   "id": "1307d3cf",
   "metadata": {},
   "outputs": [],
   "source": [
    "X_test_scale = scalerX.transform(X_test)\n",
    "y_pred = model.predict(X_test)"
   ]
  },
  {
   "cell_type": "code",
   "execution_count": 178,
   "id": "e4c79ac3",
   "metadata": {},
   "outputs": [
    {
     "data": {
      "text/plain": [
       "0.8614465178680327"
      ]
     },
     "execution_count": 178,
     "metadata": {},
     "output_type": "execute_result"
    }
   ],
   "source": [
    "accuracy_score(y_test, y_pred)"
   ]
  },
  {
   "cell_type": "code",
   "execution_count": null,
   "id": "d079d882",
   "metadata": {},
   "outputs": [],
   "source": []
  }
 ],
 "metadata": {
  "kernelspec": {
   "display_name": "Python 3 (ipykernel)",
   "language": "python",
   "name": "python3"
  },
  "language_info": {
   "codemirror_mode": {
    "name": "ipython",
    "version": 3
   },
   "file_extension": ".py",
   "mimetype": "text/x-python",
   "name": "python",
   "nbconvert_exporter": "python",
   "pygments_lexer": "ipython3",
   "version": "3.9.12"
  }
 },
 "nbformat": 4,
 "nbformat_minor": 5
}
